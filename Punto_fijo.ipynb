{
  "nbformat": 4,
  "nbformat_minor": 0,
  "metadata": {
    "colab": {
      "provenance": [],
      "authorship_tag": "ABX9TyOWdmpxptx7uVBAsr23Owfk",
      "include_colab_link": true
    },
    "kernelspec": {
      "name": "python3",
      "display_name": "Python 3"
    },
    "language_info": {
      "name": "python"
    }
  },
  "cells": [
    {
      "cell_type": "markdown",
      "metadata": {
        "id": "view-in-github",
        "colab_type": "text"
      },
      "source": [
        "<a href=\"https://colab.research.google.com/github/ClementeGarcia/metodo/blob/main/Punto_fijo.ipynb\" target=\"_parent\"><img src=\"https://colab.research.google.com/assets/colab-badge.svg\" alt=\"Open In Colab\"/></a>"
      ]
    },
    {
      "cell_type": "code",
      "execution_count": 19,
      "metadata": {
        "id": "foBCy_Z01m9Q"
      },
      "outputs": [],
      "source": [
        "from math import *\n",
        "\n",
        "import matplotlib.pyplot as plt "
      ]
    },
    {
      "cell_type": "code",
      "source": [
        "def f(x):\n",
        "  return x**3 + x -6\n",
        "\n",
        "def g(x):\n",
        "  return (6 - x)**(1/3)"
      ],
      "metadata": {
        "id": "RNVotKJC1qOj"
      },
      "execution_count": 20,
      "outputs": []
    },
    {
      "cell_type": "code",
      "source": [
        "p0 = float(input(\"Ingrese el valor inicial p0:\"))\n",
        "tol = float(input(\"Ingrese el error: \"))\n",
        "N = int(input(\"Ingrese el número de iteraciones: \"))\n",
        "i = 1\n",
        "\n",
        "while i <= N:\n",
        "      p =g(p0)\n",
        "      if abs(p - p0) < tol:\n",
        "          print(\"El punto fijo es \",p,\"despues de \",i,\"iteraciones\")\n",
        "          break\n",
        "      i = i + 1\n",
        "      p0 = p \n",
        "      print(\"Iteración: \", p0) \n",
        "\n",
        "    "
      ],
      "metadata": {
        "colab": {
          "base_uri": "https://localhost:8080/"
        },
        "id": "Jm82hjj81vIc",
        "outputId": "5e9af6d3-146f-4b95-e07d-da90ce949474"
      },
      "execution_count": 24,
      "outputs": [
        {
          "output_type": "stream",
          "name": "stdout",
          "text": [
            "Ingrese el valor inicial p0:1.5\n",
            "Ingrese el error: 0.0001\n",
            "Ingrese el número de iteraciones: 100\n",
            "Iteración:  1.6509636244473134\n",
            "Iteración:  1.6322913532758982\n",
            "Iteración:  1.6346240593972983\n",
            "Iteración:  1.6343330008665646\n",
            "El punto fijo es  1.634369322747108 despues de  5 iteraciones\n"
          ]
        }
      ]
    }
  ]
}