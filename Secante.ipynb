{
  "nbformat": 4,
  "nbformat_minor": 0,
  "metadata": {
    "colab": {
      "provenance": [],
      "authorship_tag": "ABX9TyMOrwGK7EC0qrwKF0f5ptTP",
      "include_colab_link": true
    },
    "kernelspec": {
      "name": "python3",
      "display_name": "Python 3"
    },
    "language_info": {
      "name": "python"
    }
  },
  "cells": [
    {
      "cell_type": "markdown",
      "metadata": {
        "id": "view-in-github",
        "colab_type": "text"
      },
      "source": [
        "<a href=\"https://colab.research.google.com/github/ClementeGarcia/metodo/blob/main/Secante.ipynb\" target=\"_parent\"><img src=\"https://colab.research.google.com/assets/colab-badge.svg\" alt=\"Open In Colab\"/></a>"
      ]
    },
    {
      "cell_type": "code",
      "execution_count": 1,
      "metadata": {
        "id": "hmFWcMIjM8am"
      },
      "outputs": [],
      "source": [
        "from math import *\n",
        "import numpy as np\n",
        "import matplotlib.pyplot as plt\n"
      ]
    },
    {
      "cell_type": "code",
      "source": [
        "def f(x):\n",
        "  return x**3 + 4*x**2 - 10"
      ],
      "metadata": {
        "id": "T5n4vX7sNYVk"
      },
      "execution_count": 2,
      "outputs": []
    },
    {
      "cell_type": "code",
      "source": [
        "#Programa principal \n",
        "\n",
        "x0 = 1.5  #valor inicial 1\n",
        "x1 = 1.78  #valor inicial 2\n",
        "tol = 0.0001  #Tolerancia\n",
        "error = 100\n",
        "fx1 = f(x1)\n",
        "fx0 = f(x0)\n",
        "\n",
        "\n",
        "x2 = x1 - (f(x1)*(x1-x0))/(f(x1)-f(x0))  # Estimado de la solución\n",
        "# contador de iteraciones\n",
        "niter = 1\n",
        "\n",
        "#Imprimir en pantalla \n",
        "\n",
        "print(\"{:^5} {:^15} {:^15} {:^15} {:^15}\".format(\"iter\",\"x1\",\"f(xi)\", \"sol\",\"error\"))\n",
        "\n",
        "while(error >= tol):\n",
        "    xi = x2\n",
        "    x0 = x1\n",
        "    x1 = x2\n",
        "    fx1 = f(x1)\n",
        "    fx0 = f(x0)\n",
        "    x2 = x1 - (f(x1)*(x1-x0))/(f(x1)-f(x0))\n",
        "    error = (abs((x2-x1)/x2)*100)\n",
        "    niter= niter +1\n",
        "    print(\"{:^5d} {:^15.6f} {:^15.6f} {:^15.10f} {:^15.5f}\".format(niter, x0,f(x0),x2,error))\n",
        "print(f\"Fin de la secante con x2 = {x2}\")\n",
        "print()\n"
      ],
      "metadata": {
        "colab": {
          "base_uri": "https://localhost:8080/"
        },
        "id": "QA_Z2SNYCW3k",
        "outputId": "1b37970b-6e99-4894-c815-c870ee383be9"
      },
      "execution_count": 4,
      "outputs": [
        {
          "output_type": "stream",
          "name": "stdout",
          "text": [
            "iter        x1             f(xi)            sol            error     \n",
            "  2      1.780000        8.313352      1.3692150208       1.37313    \n",
            "  3      1.388016        0.380490      1.3652740963       0.28865    \n",
            "  4      1.369215        0.065935      1.3652300994       0.00322    \n",
            "  5      1.365274        0.000728      1.3652300134       0.00001    \n",
            "Fin de la secante con x2 = 1.3652300134159554\n",
            "\n"
          ]
        }
      ]
    }
  ]
}