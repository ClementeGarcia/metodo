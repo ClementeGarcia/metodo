{
  "cells": [
    {
      "cell_type": "markdown",
      "metadata": {
        "id": "view-in-github",
        "colab_type": "text"
      },
      "source": [
        "<a href=\"https://colab.research.google.com/github/ClementeGarcia/metodo/blob/main/Neville.ipynb\" target=\"_parent\"><img src=\"https://colab.research.google.com/assets/colab-badge.svg\" alt=\"Open In Colab\"/></a>"
      ]
    },
    {
      "cell_type": "code",
      "execution_count": 1,
      "metadata": {
        "id": "ZOenrQmxmR_i"
      },
      "outputs": [],
      "source": [
        "from sympy import *\n",
        "import numpy as np"
      ]
    },
    {
      "cell_type": "code",
      "source": [
        "\n",
        "def interpolacion_neville(x, xn, Q):\n",
        "    n = len(xn) - 1\n",
        "    Q = [[0] * (n+1) for _ in range(n+1)]  # Crear una tabla Q vacía\n",
        "    for i in range(n+1):\n",
        "        Q[i][0] = Q[i][i] = Q[i][i-1] = f(xn[i])  # Inicializar valores en diagonal\n",
        "        for j in range(1, i):\n",
        "            Q[i][j] = ((x - xn[i-j]) * Q[i][j-1] - (x - xn[i]) * Q[i-1][j-1]) / (xn[i] - xn[i-j])\n",
        "    return Q\n",
        "\n",
        "def f(x):\n",
        "    # Definir la función f(x) aquí\n",
        "    # Puedes modificar esta función según tus necesidades\n",
        "    return np.log(x)\n",
        "\n",
        "# Ejemplo de uso\n",
        "x = 2.1  # Punto en el que deseas interpolar\n",
        "xn = [2.0,2.2]  # Valores conocidos de x (x0, x1, x2,x3,x4)\n",
        "Q = [[0] * len(xn) for _ in range(len(xn))]  # Tabla Q inicializada con ceros\n",
        "\n",
        "tabla_Q = interpolacion_neville(x, xn, Q)\n",
        "resultado = tabla_Q[-1][-1]  # P(x) = Q[n][n]\n",
        "\n",
        "print(\"El resultado de la interpolación en x =\", x, \"es\", resultado)\n",
        "print(\"Tabla Q completa:\")\n",
        "for fila in tabla_Q:\n",
        "    print(fila)"
      ],
      "metadata": {
        "colab": {
          "base_uri": "https://localhost:8080/"
        },
        "id": "Vevazap7zoAt",
        "outputId": "7cf36690-cf04-47bb-cb40-c737184b57e5"
      },
      "execution_count": 2,
      "outputs": [
        {
          "output_type": "stream",
          "name": "stdout",
          "text": [
            "El resultado de la interpolación en x = 2.1 es 0.8329091229351039\n",
            "Tabla Q completa:\n",
            "[0.6931471805599453, 0, 0.6931471805599453]\n",
            "[0.7884573603642703, 0.7884573603642703, 0]\n",
            "[0.8329091229351039, 0.7440055977934363, 0.8329091229351039]\n"
          ]
        }
      ]
    }
  ],
  "metadata": {
    "colab": {
      "provenance": [],
      "authorship_tag": "ABX9TyOdUDDMyM+vAD6aAFJlLrDP",
      "include_colab_link": true
    },
    "kernelspec": {
      "display_name": "Python 3",
      "name": "python3"
    },
    "language_info": {
      "name": "python"
    }
  },
  "nbformat": 4,
  "nbformat_minor": 0
}