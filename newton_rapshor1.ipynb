{
  "nbformat": 4,
  "nbformat_minor": 0,
  "metadata": {
    "colab": {
      "provenance": [],
      "toc_visible": true,
      "authorship_tag": "ABX9TyPtr8wPxzR1q9RLNU65EAP0",
      "include_colab_link": true
    },
    "kernelspec": {
      "name": "python3",
      "display_name": "Python 3"
    },
    "language_info": {
      "name": "python"
    }
  },
  "cells": [
    {
      "cell_type": "markdown",
      "metadata": {
        "id": "view-in-github",
        "colab_type": "text"
      },
      "source": [
        "<a href=\"https://colab.research.google.com/github/ClementeGarcia/metodo/blob/main/newton_rapshor1.ipynb\" target=\"_parent\"><img src=\"https://colab.research.google.com/assets/colab-badge.svg\" alt=\"Open In Colab\"/></a>"
      ]
    },
    {
      "cell_type": "code",
      "execution_count": 2,
      "metadata": {
        "id": "foBCy_Z01m9Q"
      },
      "outputs": [],
      "source": [
        "from math import *\n",
        "import numpy as np\n",
        "import matplotlib.pyplot as plt "
      ]
    },
    {
      "cell_type": "code",
      "source": [
        "def f(x):\n",
        "  return x**3 + 4*x**2 - 10\n",
        "\n",
        "def df(x):\n",
        "  return 3*x**2+ 8*x"
      ],
      "metadata": {
        "id": "RNVotKJC1qOj"
      },
      "execution_count": 3,
      "outputs": []
    },
    {
      "cell_type": "code",
      "source": [
        "#programa principal\n",
        "\n",
        "xi = 1.5 # valor inicial\n",
        "\n",
        "tol = 0.001  #Tolerancia en el error \n",
        "error = 100\n",
        "fxi = f(xi)\n",
        "dfxi = df(xi)\n",
        "\n",
        "xsol = xi - fxi / dfxi #Estimado de la solución\n",
        "\n",
        "#contador de iteraciones\n",
        "\n",
        "niter = 1\n",
        "\n",
        "#imprimir en pantalla\n",
        "print(\"{:^5} {:^15} {:^15}{:^15}{:^15} {:^15}\".format(\"iter\",\"xi\",\"f(xi)\",\"df(xi)\",\"xsol\", \"error\"))\n",
        "#variables\n",
        "print(\"{:^5d} {:^15.6f} {:^15.6f}{:^15.6f}{:^15.10f} {:^15.5f}\".format(niter, xi, fxi, dfxi, xsol, error))\n",
        "while(error >= tol):\n",
        "    xi = xsol\n",
        "\n",
        "    fxi = f(xi)\n",
        "    dfxi = df(xi)\n",
        "    xsol = xi - fxi / dfxi \n",
        "    niter = niter+1\n",
        "    error = abs((xsol - xi) / xsol)*100\n",
        "#variables\n",
        "    print(\"{:^5d} {:^15.6f} {:^15.6f}{:^15.6f}{:^15.10f} {:^15.5f}\".format(niter, xi, fxi, dfxi, xsol, error))\n",
        "print(f\"Fin de newton-raphson con xsol = {xsol}\")\n",
        "print()\n"
      ],
      "metadata": {
        "colab": {
          "base_uri": "https://localhost:8080/"
        },
        "id": "Jm82hjj81vIc",
        "outputId": "f634a97a-256b-4b07-a650-eb39ce07b987"
      },
      "execution_count": 4,
      "outputs": [
        {
          "output_type": "stream",
          "name": "stdout",
          "text": [
            "iter        xi             f(xi)         df(xi)          xsol            error     \n",
            "  1      1.500000        2.375000       18.750000    1.3733333333      100.00000   \n",
            "  2      1.373333        0.134345       16.644800    1.3652620149       0.59119    \n",
            "  3      1.365262        0.000528       16.513917    1.3652300139       0.00234    \n",
            "  4      1.365230        0.000000       16.513399    1.3652300134       0.00000    \n",
            "Fin de newton-raphson con xsol = 1.3652300134140969\n",
            "\n"
          ]
        }
      ]
    }
  ]
}