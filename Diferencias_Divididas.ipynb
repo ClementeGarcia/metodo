{
  "nbformat": 4,
  "nbformat_minor": 0,
  "metadata": {
    "colab": {
      "provenance": [],
      "authorship_tag": "ABX9TyNImrLp0qZNgcw6W6L++Q8r",
      "include_colab_link": true
    },
    "kernelspec": {
      "name": "python3",
      "display_name": "Python 3"
    },
    "language_info": {
      "name": "python"
    }
  },
  "cells": [
    {
      "cell_type": "markdown",
      "metadata": {
        "id": "view-in-github",
        "colab_type": "text"
      },
      "source": [
        "<a href=\"https://colab.research.google.com/github/ClementeGarcia/metodo/blob/main/Diferencias_Divididas.ipynb\" target=\"_parent\"><img src=\"https://colab.research.google.com/assets/colab-badge.svg\" alt=\"Open In Colab\"/></a>"
      ]
    },
    {
      "cell_type": "code",
      "execution_count": null,
      "metadata": {
        "id": "MwhGWaI0KsEI"
      },
      "outputs": [],
      "source": [
        "from math import *\n",
        "import numpy as np"
      ]
    },
    {
      "cell_type": "code",
      "source": [
        "#Datos de x\n",
        "x = np.array ([1.0,1.3 ,1.6 ,1.9 ,2.2])\n",
        "#Datos de y\n",
        "f = np.array ([0.7651977, 0.6200860, 0.4554022, 0.2818186, 0.1103623])\n",
        "\n",
        "n = x.size\n",
        "\n",
        "F= np.zeros (( n , n ) )\n",
        "F[:,0]= f\n",
        "#Interpolamos el valor deseado\n",
        "xi =1.5\n",
        "y0 = F[0 , 0]"
      ],
      "metadata": {
        "id": "SDnlAaGbKzcZ"
      },
      "execution_count": 17,
      "outputs": []
    },
    {
      "cell_type": "code",
      "source": [
        "#Codigo\n",
        "for i in range (0, n ):\n",
        "  for j in range (1,  i+1) :\n",
        "     F[i,j]=(F[i , j-1] - F[i-1, j-1]) / ( x[i] - x[ i-j ])\n"
      ],
      "metadata": {
        "id": "HOGCgUF_LLwR"
      },
      "execution_count": 18,
      "outputs": []
    },
    {
      "cell_type": "code",
      "source": [
        "x0=1\n",
        "for k in range (1,n) :\n",
        "  x0= x0*( xi - x[k-1])\n",
        "  y0= y0 + F[k,k] * x0\n",
        "\n",
        "print (\" Interpolado de\",xi,\"es: \", y0 )"
      ],
      "metadata": {
        "colab": {
          "base_uri": "https://localhost:8080/"
        },
        "id": "sPorNXSzMivy",
        "outputId": "1e052a7c-ca8f-4b44-85d5-4e4e9ce1ab76"
      },
      "execution_count": null,
      "outputs": [
        {
          "output_type": "stream",
          "name": "stdout",
          "text": [
            " Interpolado de 1.5 es:  0.5118199942386833\n"
          ]
        }
      ]
    }
  ]
}