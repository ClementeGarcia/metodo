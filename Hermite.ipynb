{
  "nbformat": 4,
  "nbformat_minor": 0,
  "metadata": {
    "colab": {
      "provenance": [],
      "authorship_tag": "ABX9TyMjrChB3hAttg4h3B0boEZb",
      "include_colab_link": true
    },
    "kernelspec": {
      "name": "python3",
      "display_name": "Python 3"
    },
    "language_info": {
      "name": "python"
    }
  },
  "cells": [
    {
      "cell_type": "markdown",
      "metadata": {
        "id": "view-in-github",
        "colab_type": "text"
      },
      "source": [
        "<a href=\"https://colab.research.google.com/github/ClementeGarcia/metodo/blob/main/Hermite.ipynb\" target=\"_parent\"><img src=\"https://colab.research.google.com/assets/colab-badge.svg\" alt=\"Open In Colab\"/></a>"
      ]
    },
    {
      "cell_type": "code",
      "execution_count": 59,
      "metadata": {
        "id": "n2TBovYCBUHR"
      },
      "outputs": [],
      "source": [
        "from math import *\n",
        "import numpy as np\n",
        "\n"
      ]
    },
    {
      "cell_type": "code",
      "source": [
        "#Problema de la pg  103\n",
        "x=np.array([1.3,1.6])   #Ingresamos los valores de x\n",
        "f=np.array([0.6200860, 0.4554022])   #Ingresamos los valores de f(x)\n",
        "d=np.array([-0.5220232, -0.5698959])\n",
        "n=(x.size)\n",
        "P=np.zeros((2*n,2*n))\n",
        "z=np.zeros(2*n)\n",
        "xi=1.5   #Valor que se busca interpolar\n",
        "H=P[0,0]"
      ],
      "metadata": {
        "id": "Tq3Zp0jwCATI"
      },
      "execution_count": 58,
      "outputs": []
    },
    {
      "cell_type": "code",
      "source": [
        "#Código\n",
        "for i in range(0,n):\n",
        "  z[2*i]=x[i]\n",
        "  z[2*i+1]=x[i]\n",
        "  P[2*i,0]=f[i]\n",
        "  P[2*i+1,0]=f[i]\n",
        "  P[2*i+1,1]=d[i]\n",
        "  if i !=0:\n",
        "    P[2*i,1]=(P[2*i,0]-P[2*i-1,0])/(z[2*i]-z[2*i-1])\n",
        "\n",
        "for i in range(2,2*n):\n",
        "  for j in range(2,i+1):\n",
        "    P[i,j]=(P[i,j-1]-P[i-1,j-1])/(z[i]-z[i-j])\n",
        "\n",
        "m=z.size\n",
        "x0=1\n",
        "A=P[0,0]\n",
        "for k in range (1,m) :\n",
        "  x0= x0*( xi- z[k-1])\n",
        "  A= A +P[k,k] * x0\n",
        "\n",
        "print (\"La interpolación de\",xi,\"es: \", A)\n",
        "\n"
      ],
      "metadata": {
        "colab": {
          "base_uri": "https://localhost:8080/"
        },
        "id": "9CkP0oZICCfK",
        "outputId": "b24b3791-0dfa-4201-c376-19775754641d"
      },
      "execution_count": 56,
      "outputs": [
        {
          "output_type": "stream",
          "name": "stdout",
          "text": [
            "La interpolación de 1.5 es:  0.5118261911111112\n"
          ]
        }
      ]
    }
  ]
}