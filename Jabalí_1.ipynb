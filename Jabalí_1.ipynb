{
  "nbformat": 4,
  "nbformat_minor": 0,
  "metadata": {
    "colab": {
      "provenance": [],
      "authorship_tag": "ABX9TyPSWBzvZCJw7dHl2aGwkMYm",
      "include_colab_link": true
    },
    "kernelspec": {
      "name": "python3",
      "display_name": "Python 3"
    },
    "language_info": {
      "name": "python"
    }
  },
  "cells": [
    {
      "cell_type": "markdown",
      "metadata": {
        "id": "view-in-github",
        "colab_type": "text"
      },
      "source": [
        "<a href=\"https://colab.research.google.com/github/ClementeGarcia/metodo/blob/main/Jabal%C3%AD_1.ipynb\" target=\"_parent\"><img src=\"https://colab.research.google.com/assets/colab-badge.svg\" alt=\"Open In Colab\"/></a>"
      ]
    },
    {
      "cell_type": "markdown",
      "source": [],
      "metadata": {
        "id": "yhWy267Fqm8z"
      }
    },
    {
      "cell_type": "markdown",
      "source": [
        "# **Muerte en la reserva**\n",
        "\n",
        "Durante una ronda de inspección por una reserva, dos guardabosques descubrieron el cadáver de un jabalí. Un examen preliminar permitió concluir que el animal falleció instantáneamente a causa de un balazo de una cazador furtivo. sospechando que el cazador debía regresar a recoger su presa, los guardas decidieron esperarlo escon- didos no lejos del lugar del crimen. Al poco tiempo aparecieron dos sujetos y se diri- gieron sin rodeos al jabalí. Al ser detenidos los desconocidos negaron rotundamente su participación en el delito. Aunque los guardabosques tenían pruebas indirectas de su culpabilidad, para obtener una prueba fehaciente era necesario determinar el instante exacto en que el jabalí fue muerto. Conforme a la ley de radiación de calor la velocidad de enfriamiento de un cuerpo en el medio ambiente es proporcionar a la diferencia. Entre la temperatura del cuerpo y la temperatura del medio\n",
        "(dydx)=k(x−a)\n",
        "Donde x es la temperatura del cuerpo en el instante t, a es la temperatura del medio ambiente y k es un factor positivo de proporcionalidad, x0 es la temperatura del cuerpo en el instante t = 0.\n",
        "(a) Si en el instante en que fueron detenidos los sospechosos la temperatura x del cuerpo del jabalí era igual a 31°C y pasada una hora era igual a 29°C, entonces, considerando que en el instante del disparo x = 37°C y a = 21°C, y tomando el instante del arresto como t = 0, determinar el momento del disparo."
      ],
      "metadata": {
        "id": "HRyzLItsrWjZ"
      }
    },
    {
      "cell_type": "markdown",
      "source": [
        "Resolvemos la ecuacion diferencial. Tomando a  a  como constante tenemos que:  x0=31,x1=29,xt=37,a=21,  Queremos saber cuanto vale t, entonces por variables separables:\n",
        "(dxdt)=k(x−a)⇒dxx−a=kdt⇒∫dxx−a=∫kdt⇒ln(x−a)=kt+c⇒eln(x−a)=ekt+c⇒x−a=cekt\n",
        "Sustituyendo, cuando t=0:\n",
        "31−21=ce0⇒c=10\n",
        "Sustituyendo, cuando t=1 con c=10:\n",
        "29−21=10ek⇒k=ln(45)⇒k=−0.223144\n",
        "Ahora sustituyendo para encontrar t:\n",
        "37−21=10e−0.223144t⇒t=ln(85)−0.223144⇒t=−2.10628\n",
        "Por lo tanto, el momento del diparo fue dos horas antes de ser detenidos."
      ],
      "metadata": {
        "id": "dnpme9qarpLU"
      }
    },
    {
      "cell_type": "markdown",
      "source": [
        "(b) En el caso cuando la temperatura del aire varía con el tiempo, la ley de enfria- miento del cuerpo se convierte en la ecuación diferencial lineal no homogénea.\n",
        "\n",
        "dxdt=kx−ka(t)\n",
        "\n",
        "Donde  a(t)  es la temperatura del aire en el instante t. Hagamos algunas conjeturas: en el instante de la detención de los sospechosos la temperatura del cuerpo del jabalí era igual a 30°C; el día del acontecimiento la temperatura del aire descendió cada hora después del medio día en 1°C y era igual a 0°C en el instante del hallazgo del cadáver; finalmente, pongamos que al cabo de una hora de ser detectado el animal, su temperatura bajó hasta 25°C. Tomando t = 0 como en el instante del disparo, asumiendo que entonces la temperatura corporal del jabalí era x0 = 37°C y denotando con  t∗ el instante en que los guardabosques descubrieron el cadáver, obtenemos  a(t)=t∗−t . Hallar de nuevo el momento en que murió el jabalí."
      ],
      "metadata": {
        "id": "oYQbTJinrrxG"
      }
    },
    {
      "cell_type": "markdown",
      "source": [
        "Resolvemos la ecuacion diferencial. Tomando a  a  como funcion, tenemos que:  xt=30ya(t)=0⇒t∗=t,x1=25,x0=37,  Queremos saber cuanto vale t, entonces por factor integrante:\n",
        "(dxdt)=kx−ka(t)⇒(dxdt)=kx−k(t∗−t)⇒x=(37−t∗−1k)e−kt+t∗−t+1k\n",
        "Sustituyendo, obtenemos las ecuaciones:\n",
        "(37−t∗−1k)e−kt∗+1k=30\n",
        "(37−t∗−1k)e−k(t∗+1)+1k=26\n",
        "Ahora quereos encontrar a k, on ayuda del método de aproximaciones sucesivas de Newton.\n",
        "(1)...P(k)=30k−1+(1−26k)ek=0\n",
        "(2)...P(k)=(37k−1+kt)ekt−30k+1=0"
      ],
      "metadata": {
        "id": "b-T_54sCrxNh"
      }
    },
    {
      "cell_type": "code",
      "source": [
        "from math import *\n",
        "import numpy as np\n",
        "import matplotlib . pyplot as plt\n"
      ],
      "metadata": {
        "id": "0kB1PQmhsOoy"
      },
      "execution_count": 14,
      "outputs": []
    },
    {
      "cell_type": "code",
      "source": [
        "#Definimos los valores a ocupar para poder dar solución al priblema\n",
        "p0 = 0.5\n",
        "tol = 0.0000001\n",
        "n = 10\n",
        "def funcion_1(x):\n",
        "  f = 30*x - 1 +(1-26*x)*(np.exp(x))\n",
        "  return (f)\n",
        "\n",
        "def funcion_2(x):\n",
        "  h = 30 - (25 + 26*x)*(np.exp(x))\n",
        "  return (h)\n",
        "\n",
        "def funcion_3(x):\n",
        "  g = -(51+26*x)*(np.exp(x))\n",
        "  return (g)\n",
        "print(\"a)\")\n",
        "print(\"n \\t kn \\t\\t f(kn) \\t\\t f'(kn) \\t f''(kn)\")\n",
        "print(\"0 \\t {1:6.6f} \\t {2:6.6f} \\t {3:6.6f} \\t {4:6.6f}\".format(0,p0,funcion_1(p0),funcion_2(p0),funcion_3(p0)))\n",
        "i = 1\n",
        "while i<=n:\n",
        "  p = p0 - funcion_1(p0)/funcion_2(p0)\n",
        "\n",
        "  if abs(p-p0) < tol:\n",
        "    break\n",
        "\n",
        "  p0 = p\n",
        "  print(\"{0} \\t {1:6.6f} \\t {2:6.6f} \\t {3:6.6f} \\t {4:6.6f}\".format(i,p0,funcion_1(p0),funcion_2(p0),funcion_3(p0)))\n",
        "  i = i+1\n",
        "\n",
        "#Para la segunda parte ingresamos los valores para la evaluación\n",
        "p1 = -1\n",
        "tol = 0.000000001\n",
        "n = 10\n",
        "def g1(x):\n",
        "  k=0.178952\n",
        "  j = (37*k-1+k*x)*(np.exp(k*x))-30*k + 1\n",
        "  return (j)\n",
        "\n",
        "def g2(x):\n",
        "  k=0.178952\n",
        "  m = (37*(k**2) + (k**2)*x)*(np.exp(k*x))\n",
        "  return (m)\n",
        "\n",
        "def g3(x):\n",
        "  k=0.178952\n",
        "  r = (37*(k**3) + k**2 + (k**3)*k)*(np.exp(k*x))\n",
        "  return (r)\n",
        "print(\"b)\")\n",
        "print(\"n \\t tn \\t\\t g(tn) \\t\\t g'(tn) \\t g''(tn)\")\n",
        "print(\"0 \\t {1:6.6f} \\t {2:6.6f} \\t {3:6.6f} \\t {4:6.6f}\".format(0,p1,g1(p1),g2(p1),g3(p1)))\n",
        "i = 1\n",
        "while i<=n:\n",
        "  t = p1 - g1(p1)/g2(p1)\n",
        "\n",
        "  if abs(t-p1) < tol:\n",
        "    break\n",
        "\n",
        "  p1 = t\n",
        "  print(\"{0} \\t {1:6.7f} \\t {2:6.7f} \\t {3:6.7f} \\t {4:6.7f}\".format(i,p1,g1(p1),g2(p1),g3(p1)))\n",
        "  i = i+1"
      ],
      "metadata": {
        "colab": {
          "base_uri": "https://localhost:8080/"
        },
        "id": "p6qQzjT3r1ln",
        "outputId": "72949dae-4c2e-401d-c4b8-441179ac12ca"
      },
      "execution_count": 16,
      "outputs": [
        {
          "output_type": "stream",
          "name": "stdout",
          "text": [
            "a)\n",
            "n \t kn \t\t f(kn) \t\t f'(kn) \t f''(kn)\n",
            "0 \t 0.500000 \t -5.784655 \t -32.651408 \t -105.518161\n",
            "1 \t 0.322836 \t -1.525956 \t -16.118044 \t -82.025052\n",
            "2 \t 0.228162 \t -0.351425 \t -8.859806 \t -71.523322\n",
            "3 \t 0.188497 \t -0.055195 \t -6.103384 \t -67.496659\n",
            "4 \t 0.179454 \t -0.002748 \t -5.497020 \t -66.607676\n",
            "5 \t 0.178954 \t -0.000008 \t -5.463736 \t -66.558845\n",
            "6 \t 0.178952 \t -0.000000 \t -5.463635 \t -66.558696\n",
            "b)\n",
            "n \t tn \t\t g(tn) \t\t g'(tn) \t g''(tn)\n",
            "0 \t -1.000000 \t 0.181974 \t 0.963957 \t 0.204928\n",
            "1 \t -1.1887782 \t 0.0035059 \t 0.9270495 \t 0.1981206\n",
            "2 \t -1.1925601 \t 0.0000014 \t 0.9263245 \t 0.1979865\n",
            "3 \t -1.1925615 \t 0.0000000 \t 0.9263242 \t 0.1979865\n"
          ]
        }
      ]
    },
    {
      "cell_type": "code",
      "source": [],
      "metadata": {
        "id": "_9qlpv1hwkqc"
      },
      "execution_count": null,
      "outputs": []
    }
  ]
}